{
 "cells": [
  {
   "cell_type": "markdown",
   "id": "c826b341",
   "metadata": {},
   "source": [
    "# Stacking of images from various formats"
   ]
  },
  {
   "cell_type": "markdown",
   "id": "6c2aa81c",
   "metadata": {},
   "source": [
    "This notebook guides you trough the stacking functions of the ISS_preprocessing package and Python environment.\n",
    "This needs to be done usually before carrying on with image deconvolution\n",
    "\n",
    "Make sure you are running this notebook from the ISS_preprocessing environment.\n",
    "\n",
    "*Carefully read the documentation (here or on the manual) about each of the following funcion, so you can choose wisely*"
   ]
  },
  {
   "cell_type": "markdown",
   "id": "b783a738",
   "metadata": {},
   "source": [
    "# Creating image stacks from Leica-exported tiffs, all cycles (Leica/Nilsson naming only)\n",
    "\n",
    "This is done by calling the function stack_cycle_images_leica (as the name suggests, it only works for Leica-named files).\n",
    "The minimal syntax to run the stacking is as follows (will set image_dimensions and output_image_type to defaults unless otherwise specified).\n"
   ]
  },
  {
   "cell_type": "code",
   "execution_count": null,
   "id": "58b13f82",
   "metadata": {},
   "outputs": [],
   "source": [
    "stack_cycle_images_leica(input_folders, output_folder)"
   ]
  },
  {
   "cell_type": "markdown",
   "id": "eb109b16",
   "metadata": {},
   "source": [
    "\n",
    "\n",
    "Where the variables are as follows:\n",
    "\n",
    "`input_folders: lst`.  A list of str where each element is a folder to be processed, being each folder one cycle of imaging. The list needs to be ordered (cycle1, cycle2, etc…)\n",
    "\n",
    "`output_folder: str`. The path of the output folder \n",
    "\n",
    "`cycle : int`.  default=0  When processing multiple cycle this needs to be either 0 or not specified (it will default to 0) \n",
    "\n",
    "`image_dimensions : lst`. default=[2048,2048] A list defining the xy size of the images to process. Defaults to 2048x2048 (standard in our lab)\n",
    "\n",
    "`output_image_type: str`  default= 'uint16' Defines the output image type, do not change unless you really know what you're doing.\n",
    "\n",
    "\n"
   ]
  },
  {
   "cell_type": "markdown",
   "id": "e237b30e",
   "metadata": {},
   "source": [
    "# Creating image stacks from CZI files, all cycles\n",
    "\n",
    "This is done by calling the function:"
   ]
  },
  {
   "cell_type": "code",
   "execution_count": null,
   "id": "5eabdb20",
   "metadata": {},
   "outputs": [],
   "source": [
    "\n",
    "stack_cycle_images_zeiss(input_files, output_folder)\n"
   ]
  },
  {
   "cell_type": "markdown",
   "id": "a70a5fb7",
   "metadata": {},
   "source": [
    "The function takes the following variables as inputs:\n",
    "\n",
    "`input_files`: lst A list of the paths to the CZI files to process. The list needs to be ordered (cycle1, cycle2, etc…)\n",
    "\n",
    "`output_folder`: str Location of the output folder where the stacks will be saved\n",
    " \n",
    "\n",
    "*Whichever stacking function is used, the output will look the same: a stacked folder will be created in the indicated output location, and the folder will be populated with indexed files whose name begins with the stacked prefix. This will be the input folder for the next step.*\n",
    "\n"
   ]
  },
  {
   "cell_type": "markdown",
   "id": "09a2437d",
   "metadata": {},
   "source": [
    "\n",
    "## In case the user wants for some reason to process an individual cycle instead of a full experiment, we offer the following options.\n",
    "\n",
    "# Creating image stacks from Leica-exported tiffs, single cycle (Leica/Nilsson naming only)"
   ]
  },
  {
   "cell_type": "code",
   "execution_count": null,
   "id": "a105d4ae",
   "metadata": {},
   "outputs": [],
   "source": [
    "stack_cycle_images_leica(input_folders, output_folder, cycle=)\n"
   ]
  },
  {
   "cell_type": "markdown",
   "id": "a88e639e",
   "metadata": {},
   "source": [
    "Where the variables are as follows:\n",
    "\n",
    "`input_folders: lst`.  A list of length 1 containing the path to the cycle to be processed.\n",
    "\n",
    "`output_folder: str`. The path of the output folder \n",
    "\n",
    "`cycle : int`.  A number corresponding to the cycle index (AKA \"which cycle is this?\")\n",
    "\n",
    "\n",
    "# Creating image stacks from CZI files, single cycle\n"
   ]
  },
  {
   "cell_type": "code",
   "execution_count": null,
   "id": "311ffb8f",
   "metadata": {},
   "outputs": [],
   "source": [
    "czi_to_tiff(input_file, outpath, cycle=, mip=False)\n"
   ]
  },
  {
   "cell_type": "markdown",
   "id": "5fa37ee2",
   "metadata": {},
   "source": [
    "Where the variables are as follows:\n",
    "\n",
    "`input file = str`, specifies the path to the czi file\n",
    "\n",
    "`outpath = str`, specifies the output folder\n",
    "\n",
    "`cycle = int`, specifies the cycle number the file refers to  (AKA \"which cycle is this?\")"
   ]
  },
  {
   "cell_type": "markdown",
   "metadata": {},
   "source": []
  }
 ],
 "metadata": {
  "kernelspec": {
   "display_name": "zeisstest",
   "language": "python",
   "name": "zeisstest"
  },
  "language_info": {
   "codemirror_mode": {
    "name": "ipython",
    "version": 3
   },
   "file_extension": ".py",
   "mimetype": "text/x-python",
   "name": "python",
   "nbconvert_exporter": "python",
   "pygments_lexer": "ipython3",
   "version": "3.9.12"
  }
 },
 "nbformat": 4,
 "nbformat_minor": 5
}
