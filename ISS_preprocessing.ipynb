{
 "cells": [
  {
   "cell_type": "code",
   "execution_count": 2,
   "id": "2c1a828d-1e92-41cf-b3f9-dd844ba7789f",
   "metadata": {},
   "outputs": [],
   "source": [
    "from ISS_processing.preprocessing import preprocessing_main_leica\n",
    "import ISS_processing.preprocessing as pp\n",
    "import os\n",
    "import pandas as pd"
   ]
  },
  {
   "cell_type": "code",
   "execution_count": 3,
   "id": "bb9d84eb-e56e-470e-ad85-1b2bce7e2ec6",
   "metadata": {},
   "outputs": [],
   "source": [
    "output_location = '/media/cml/hfsc_processing_2/HFSC'\n",
    "    \n",
    "input_dirs = [\n",
    "    '/media/cml/Roadrunner/220609_fetal_spinalcord_cycle_1/2022_06_09_17_26_34--220609_fetal_spinalcord_cycle_1001/TileScan 1/',\n",
    "    \n",
    "    '/media/cml/Roadrunner/220609_fetal_spinalcord_cycle_2/2022_06_09_13_04_07--220609_fetal_spinalcord_cycle_2001/TileScan 1/', \n",
    "    \n",
    "    '/media/cml/Roadrunner/220608_fetal_spinalcord_cycle_3/2022_06_08_18_48_18--220608_fetal_spinalcord_cycle_3001/TileScan 1/',\n",
    "    \n",
    "    '/media/cml/Roadrunner/220608_fetal_spinalcord_cycle_4/2022_06_08_14_14_38--220608_fetal_spinalcord_cycle_4001/TileScan 1/',\n",
    "    \n",
    "    '/media/cml/Roadrunner/220608_fetal_spinalcord_cycle_5/2022_06_08_09_48_57--220608_fetal_spinalcord_cycle_5001/TileScan 1',\n",
    "    \n",
    "    '/media/cml/Roadrunner/220607_fetal_spinalcord_cycle_6/2022_06_07_13_34_32--220607_fetal_spinalcord_cycle_6001/TileScan 1/'\n",
    "\n",
    "\n",
    "]\n"
   ]
  },
  {
   "cell_type": "code",
   "execution_count": 5,
   "id": "1776ef15-fb1a-4f23-80b6-2d04999ec8b9",
   "metadata": {},
   "outputs": [
    {
     "name": "stderr",
     "output_type": "stream",
     "text": [
      "100%|██████████| 28/28 [00:00<00:00, 3725.79it/s]\n",
      "100%|██████████| 28/28 [00:00<00:00, 3830.54it/s]\n",
      "100%|██████████| 48/48 [00:00<00:00, 1086.46it/s]\n",
      "100%|██████████| 48/48 [00:00<00:00, 3409.71it/s]\n",
      "100%|██████████| 60/60 [00:00<00:00, 3551.64it/s]\n",
      "100%|██████████| 60/60 [00:00<00:00, 3211.11it/s]\n",
      "100%|██████████| 55/55 [00:00<00:00, 3970.37it/s]\n",
      "100%|██████████| 55/55 [00:00<00:00, 3776.30it/s]\n",
      "100%|██████████| 28/28 [00:00<00:00, 4727.50it/s]\n",
      "100%|██████████| 28/28 [00:00<00:00, 4103.44it/s]\n",
      "100%|██████████| 48/48 [00:00<00:00, 995.24it/s]\n",
      "100%|██████████| 48/48 [00:00<00:00, 3935.54it/s]\n",
      "100%|██████████| 60/60 [00:00<00:00, 3166.19it/s]\n",
      "100%|██████████| 60/60 [00:00<00:00, 3365.94it/s]\n",
      "100%|██████████| 55/55 [13:16<00:00, 14.48s/it]\n",
      "100%|██████████| 55/55 [13:20<00:00, 14.55s/it]\n",
      "100%|██████████| 28/28 [00:00<00:00, 5698.78it/s]\n",
      "100%|██████████| 28/28 [00:00<00:00, 4690.12it/s]\n",
      "100%|██████████| 48/48 [00:00<00:00, 3776.60it/s]\n",
      "100%|██████████| 48/48 [07:49<00:00,  9.78s/it]\n",
      "100%|██████████| 60/60 [14:51<00:00, 14.86s/it]\n",
      "100%|██████████| 60/60 [14:38<00:00, 14.64s/it]\n",
      "100%|██████████| 55/55 [13:40<00:00, 14.92s/it]\n",
      "100%|██████████| 55/55 [13:24<00:00, 14.63s/it]\n",
      "100%|██████████| 28/28 [08:49<00:00, 18.90s/it]\n",
      "100%|██████████| 28/28 [10:27<00:00, 22.40s/it]\n",
      "100%|██████████| 48/48 [10:43<00:00, 13.41s/it]\n",
      "100%|██████████| 48/48 [09:48<00:00, 12.25s/it]\n",
      "100%|██████████| 60/60 [12:35<00:00, 12.59s/it]\n",
      "100%|██████████| 60/60 [12:27<00:00, 12.46s/it]\n",
      "100%|██████████| 55/55 [11:42<00:00, 12.78s/it]\n",
      "100%|██████████| 55/55 [12:22<00:00, 13.50s/it]\n",
      "100%|██████████| 28/28 [05:32<00:00, 11.89s/it]\n",
      "100%|██████████| 28/28 [05:31<00:00, 11.82s/it]\n",
      "100%|██████████| 48/48 [09:19<00:00, 11.66s/it]\n",
      "100%|██████████| 48/48 [09:20<00:00, 11.67s/it]\n",
      "100%|██████████| 60/60 [11:44<00:00, 11.74s/it]\n",
      "100%|██████████| 60/60 [11:38<00:00, 11.63s/it]\n",
      "100%|██████████| 55/55 [10:43<00:00, 11.70s/it]\n",
      "100%|██████████| 55/55 [10:42<00:00, 11.69s/it]\n",
      "100%|██████████| 28/28 [06:40<00:00, 14.29s/it]\n",
      "100%|██████████| 28/28 [06:20<00:00, 13.60s/it]\n",
      "100%|██████████| 48/48 [10:52<00:00, 13.60s/it]\n",
      "100%|██████████| 48/48 [10:55<00:00, 13.65s/it]\n",
      "100%|██████████| 60/60 [13:37<00:00, 13.63s/it]\n",
      "100%|██████████| 60/60 [13:40<00:00, 13.67s/it]\n",
      "100%|██████████| 55/55 [12:27<00:00, 13.59s/it]\n",
      "100%|██████████| 55/55 [12:31<00:00, 13.66s/it]\n"
     ]
    },
    {
     "name": "stdout",
     "output_type": "stream",
     "text": [
      "A1 Region1.xlif\n"
     ]
    },
    {
     "name": "stderr",
     "output_type": "stream",
     "text": [
      "100%|██████████| 28/28 [00:28<00:00,  1.02s/it]\n"
     ]
    },
    {
     "name": "stdout",
     "output_type": "stream",
     "text": [
      "A1 Region1.xlif\n"
     ]
    },
    {
     "name": "stderr",
     "output_type": "stream",
     "text": [
      "100%|██████████| 28/28 [00:32<00:00,  1.15s/it]\n"
     ]
    },
    {
     "name": "stdout",
     "output_type": "stream",
     "text": [
      "A1 Region1.xlif\n"
     ]
    },
    {
     "name": "stderr",
     "output_type": "stream",
     "text": [
      "100%|██████████| 28/28 [00:34<00:00,  1.23s/it]\n"
     ]
    },
    {
     "name": "stdout",
     "output_type": "stream",
     "text": [
      "A1 Region1.xlif\n"
     ]
    },
    {
     "name": "stderr",
     "output_type": "stream",
     "text": [
      "100%|██████████| 28/28 [00:34<00:00,  1.24s/it]\n"
     ]
    },
    {
     "name": "stdout",
     "output_type": "stream",
     "text": [
      "A1 Region1.xml\n"
     ]
    },
    {
     "name": "stderr",
     "output_type": "stream",
     "text": [
      "100%|██████████| 28/28 [00:35<00:00,  1.27s/it]\n"
     ]
    },
    {
     "name": "stdout",
     "output_type": "stream",
     "text": [
      "A1 Region1.xlif\n"
     ]
    },
    {
     "name": "stderr",
     "output_type": "stream",
     "text": [
      "100%|██████████| 28/28 [00:36<00:00,  1.32s/it]\n"
     ]
    },
    {
     "name": "stdout",
     "output_type": "stream",
     "text": [
      "Cycle 0:\n",
      "    reading /media/cml/hfsc_processing_2/HFSC_R1/preprocessing/OME_tiffs/Base_1.ome.tiff\n",
      "    assembling thumbnail 28/28\n",
      "    quantifying alignment error 1000/1000\n",
      "    aligning edge 45/45\n",
      "    Channel 0:\n",
      "        merging tile 28/28\n",
      "        writing to /media/cml/hfsc_processing_2/HFSC_R1/preprocessing/stitched/Round0_0.tif\n",
      "    Channel 1:\n",
      "        merging tile 28/28\n",
      "        writing to /media/cml/hfsc_processing_2/HFSC_R1/preprocessing/stitched/Round0_1.tif\n",
      "    Channel 2:\n",
      "        merging tile 28/28\n",
      "        writing to /media/cml/hfsc_processing_2/HFSC_R1/preprocessing/stitched/Round0_2.tif\n",
      "    Channel 3:\n",
      "        merging tile 28/28\n",
      "        writing to /media/cml/hfsc_processing_2/HFSC_R1/preprocessing/stitched/Round0_3.tif\n",
      "    Channel 4:\n",
      "        merging tile 28/28\n",
      "        writing to /media/cml/hfsc_processing_2/HFSC_R1/preprocessing/stitched/Round0_4.tif\n",
      "Cycle 1:\n",
      "    reading /media/cml/hfsc_processing_2/HFSC_R1/preprocessing/OME_tiffs/Base_2.ome.tiff\n",
      "    assembling thumbnail 28/28\n",
      "    estimated cycle offset [y x] = [ 0. -2.]\n",
      "    aligning tile 28/28\n",
      "    Channel 0:\n",
      "        merging tile 28/28\n",
      "        writing to /media/cml/hfsc_processing_2/HFSC_R1/preprocessing/stitched/Round1_0.tif\n",
      "    Channel 1:\n",
      "        merging tile 28/28\n",
      "        writing to /media/cml/hfsc_processing_2/HFSC_R1/preprocessing/stitched/Round1_1.tif\n",
      "    Channel 2:\n",
      "        merging tile 28/28\n",
      "        writing to /media/cml/hfsc_processing_2/HFSC_R1/preprocessing/stitched/Round1_2.tif\n",
      "    Channel 3:\n",
      "        merging tile 28/28\n",
      "        writing to /media/cml/hfsc_processing_2/HFSC_R1/preprocessing/stitched/Round1_3.tif\n",
      "    Channel 4:\n",
      "        merging tile 28/28\n",
      "        writing to /media/cml/hfsc_processing_2/HFSC_R1/preprocessing/stitched/Round1_4.tif\n",
      "Cycle 2:\n",
      "    reading /media/cml/hfsc_processing_2/HFSC_R1/preprocessing/OME_tiffs/Base_3.ome.tiff\n",
      "    assembling thumbnail 28/28\n",
      "    estimated cycle offset [y x] = [-61.  55.]\n",
      "    aligning tile 28/28\n",
      "    Channel 0:\n",
      "        merging tile 28/28\n",
      "        writing to /media/cml/hfsc_processing_2/HFSC_R1/preprocessing/stitched/Round2_0.tif\n",
      "    Channel 1:\n",
      "        merging tile 28/28\n",
      "        writing to /media/cml/hfsc_processing_2/HFSC_R1/preprocessing/stitched/Round2_1.tif\n",
      "    Channel 2:\n",
      "        merging tile 28/28\n",
      "        writing to /media/cml/hfsc_processing_2/HFSC_R1/preprocessing/stitched/Round2_2.tif\n",
      "    Channel 3:\n",
      "        merging tile 28/28\n",
      "        writing to /media/cml/hfsc_processing_2/HFSC_R1/preprocessing/stitched/Round2_3.tif\n",
      "    Channel 4:\n",
      "        merging tile 28/28\n",
      "        writing to /media/cml/hfsc_processing_2/HFSC_R1/preprocessing/stitched/Round2_4.tif\n",
      "Cycle 3:\n",
      "    reading /media/cml/hfsc_processing_2/HFSC_R1/preprocessing/OME_tiffs/Base_4.ome.tiff\n",
      "    assembling thumbnail 28/28\n",
      "    estimated cycle offset [y x] = [ 0. -5.]\n",
      "    aligning tile 28/28\n",
      "    Channel 0:\n",
      "        merging tile 28/28\n",
      "        writing to /media/cml/hfsc_processing_2/HFSC_R1/preprocessing/stitched/Round3_0.tif\n",
      "    Channel 1:\n",
      "        merging tile 28/28\n",
      "        writing to /media/cml/hfsc_processing_2/HFSC_R1/preprocessing/stitched/Round3_1.tif\n",
      "    Channel 2:\n",
      "        merging tile 28/28\n",
      "        writing to /media/cml/hfsc_processing_2/HFSC_R1/preprocessing/stitched/Round3_2.tif\n",
      "    Channel 3:\n",
      "        merging tile 28/28\n",
      "        writing to /media/cml/hfsc_processing_2/HFSC_R1/preprocessing/stitched/Round3_3.tif\n",
      "    Channel 4:\n",
      "        merging tile 28/28\n",
      "        writing to /media/cml/hfsc_processing_2/HFSC_R1/preprocessing/stitched/Round3_4.tif\n",
      "Cycle 4:\n",
      "    reading /media/cml/hfsc_processing_2/HFSC_R1/preprocessing/OME_tiffs/Base_5.ome.tiff\n",
      "    assembling thumbnail 28/28\n",
      "    estimated cycle offset [y x] = [-1. -2.]\n",
      "    aligning tile 28/28\n",
      "    Channel 0:\n",
      "        merging tile 28/28\n",
      "        writing to /media/cml/hfsc_processing_2/HFSC_R1/preprocessing/stitched/Round4_0.tif\n",
      "    Channel 1:\n",
      "        merging tile 28/28\n",
      "        writing to /media/cml/hfsc_processing_2/HFSC_R1/preprocessing/stitched/Round4_1.tif\n",
      "    Channel 2:\n",
      "        merging tile 28/28\n",
      "        writing to /media/cml/hfsc_processing_2/HFSC_R1/preprocessing/stitched/Round4_2.tif\n",
      "    Channel 3:\n",
      "        merging tile 28/28\n",
      "        writing to /media/cml/hfsc_processing_2/HFSC_R1/preprocessing/stitched/Round4_3.tif\n",
      "    Channel 4:\n",
      "        merging tile 28/28\n",
      "        writing to /media/cml/hfsc_processing_2/HFSC_R1/preprocessing/stitched/Round4_4.tif\n",
      "Cycle 5:\n",
      "    reading /media/cml/hfsc_processing_2/HFSC_R1/preprocessing/OME_tiffs/Base_6.ome.tiff\n",
      "    assembling thumbnail 28/28\n",
      "    estimated cycle offset [y x] = [-1. -4.]\n",
      "    aligning tile 28/28\n",
      "    Channel 0:\n",
      "        merging tile 28/28\n",
      "        writing to /media/cml/hfsc_processing_2/HFSC_R1/preprocessing/stitched/Round5_0.tif\n",
      "    Channel 1:\n",
      "        merging tile 28/28\n",
      "        writing to /media/cml/hfsc_processing_2/HFSC_R1/preprocessing/stitched/Round5_1.tif\n",
      "    Channel 2:\n",
      "        merging tile 28/28\n",
      "        writing to /media/cml/hfsc_processing_2/HFSC_R1/preprocessing/stitched/Round5_2.tif\n",
      "    Channel 3:\n",
      "        merging tile 28/28\n",
      "        writing to /media/cml/hfsc_processing_2/HFSC_R1/preprocessing/stitched/Round5_3.tif\n",
      "    Channel 4:\n",
      "        merging tile 28/28\n",
      "        writing to /media/cml/hfsc_processing_2/HFSC_R1/preprocessing/stitched/Round5_4.tif\n",
      "tiling: Round0_0.tif\n",
      "tiling: Round0_1.tif\n",
      "tiling: Round0_2.tif\n",
      "tiling: Round0_3.tif\n",
      "tiling: Round0_4.tif\n",
      "tiling: Round1_0.tif\n",
      "tiling: Round1_1.tif\n",
      "tiling: Round1_2.tif\n",
      "tiling: Round1_3.tif\n",
      "tiling: Round1_4.tif\n",
      "tiling: Round2_0.tif\n",
      "tiling: Round2_1.tif\n",
      "tiling: Round2_2.tif\n",
      "tiling: Round2_3.tif\n",
      "tiling: Round2_4.tif\n",
      "tiling: Round3_0.tif\n",
      "tiling: Round3_1.tif\n",
      "tiling: Round3_2.tif\n",
      "tiling: Round3_3.tif\n",
      "tiling: Round3_4.tif\n",
      "tiling: Round4_0.tif\n",
      "tiling: Round4_1.tif\n",
      "tiling: Round4_2.tif\n",
      "tiling: Round4_3.tif\n",
      "tiling: Round4_4.tif\n",
      "tiling: Round5_0.tif\n",
      "tiling: Round5_1.tif\n",
      "tiling: Round5_2.tif\n",
      "tiling: Round5_3.tif\n",
      "tiling: Round5_4.tif\n",
      "A1 Region2.xlif\n"
     ]
    },
    {
     "name": "stderr",
     "output_type": "stream",
     "text": [
      "100%|██████████| 28/28 [00:37<00:00,  1.34s/it]\n"
     ]
    },
    {
     "name": "stdout",
     "output_type": "stream",
     "text": [
      "A1 Region2.xlif\n"
     ]
    },
    {
     "name": "stderr",
     "output_type": "stream",
     "text": [
      "100%|██████████| 28/28 [00:48<00:00,  1.73s/it]\n"
     ]
    },
    {
     "name": "stdout",
     "output_type": "stream",
     "text": [
      "A1 Region2.xlif\n"
     ]
    },
    {
     "name": "stderr",
     "output_type": "stream",
     "text": [
      "100%|██████████| 28/28 [00:45<00:00,  1.63s/it]\n"
     ]
    },
    {
     "name": "stdout",
     "output_type": "stream",
     "text": [
      "A1 Region2.xlif\n"
     ]
    },
    {
     "name": "stderr",
     "output_type": "stream",
     "text": [
      "100%|██████████| 28/28 [00:38<00:00,  1.38s/it]\n"
     ]
    },
    {
     "name": "stdout",
     "output_type": "stream",
     "text": [
      "A1 Region2.xml\n"
     ]
    },
    {
     "name": "stderr",
     "output_type": "stream",
     "text": [
      "100%|██████████| 28/28 [00:37<00:00,  1.32s/it]\n"
     ]
    },
    {
     "name": "stdout",
     "output_type": "stream",
     "text": [
      "A1 Region2.xlif\n"
     ]
    },
    {
     "name": "stderr",
     "output_type": "stream",
     "text": [
      "100%|██████████| 28/28 [00:38<00:00,  1.37s/it]\n"
     ]
    },
    {
     "name": "stdout",
     "output_type": "stream",
     "text": [
      "Cycle 0:\n",
      "    reading /media/cml/hfsc_processing_2/HFSC_R2/preprocessing/OME_tiffs/Base_1.ome.tiff\n",
      "    assembling thumbnail 28/28\n",
      "    quantifying alignment error 1000/1000\n",
      "    aligning edge 45/45\n",
      "    Channel 0:\n",
      "        merging tile 6/28"
     ]
    },
    {
     "name": "stderr",
     "output_type": "stream",
     "text": [
      "IOPub message rate exceeded.\n",
      "The Jupyter server will temporarily stop sending output\n",
      "to the client in order to avoid crashing it.\n",
      "To change this limit, set the config variable\n",
      "`--ServerApp.iopub_msg_rate_limit`.\n",
      "\n",
      "Current values:\n",
      "ServerApp.iopub_msg_rate_limit=1000.0 (msgs/sec)\n",
      "ServerApp.rate_limit_window=3.0 (secs)\n",
      "\n"
     ]
    },
    {
     "name": "stdout",
     "output_type": "stream",
     "text": [
      "        merging tile 60/60\n",
      "        writing to /media/cml/hfsc_processing_2/HFSC_R5/preprocessing/stitched/Round3_2.tif\n",
      "    Channel 3:\n",
      "        merging tile 60/60\n",
      "        writing to /media/cml/hfsc_processing_2/HFSC_R5/preprocessing/stitched/Round3_3.tif\n",
      "    Channel 4:\n",
      "        merging tile 60/60\n",
      "        writing to /media/cml/hfsc_processing_2/HFSC_R5/preprocessing/stitched/Round3_4.tif\n",
      "Cycle 4:\n",
      "    reading /media/cml/hfsc_processing_2/HFSC_R5/preprocessing/OME_tiffs/Base_5.ome.tiff\n",
      "    assembling thumbnail 60/60\n",
      "    estimated cycle offset [y x] = [-2. -1.]\n",
      "    aligning tile 60/60\n",
      "    Channel 0:\n",
      "        merging tile 60/60\n",
      "        writing to /media/cml/hfsc_processing_2/HFSC_R5/preprocessing/stitched/Round4_0.tif\n",
      "    Channel 1:\n",
      "        merging tile 60/60\n",
      "        writing to /media/cml/hfsc_processing_2/HFSC_R5/preprocessing/stitched/Round4_1.tif\n",
      "    Channel 2:\n",
      "        merging tile 60/60\n",
      "        writing to /media/cml/hfsc_processing_2/HFSC_R5/preprocessing/stitched/Round4_2.tif\n",
      "    Channel 3:\n",
      "        merging tile 60/60\n",
      "        writing to /media/cml/hfsc_processing_2/HFSC_R5/preprocessing/stitched/Round4_3.tif\n",
      "    Channel 4:\n",
      "        merging tile 60/60\n",
      "        writing to /media/cml/hfsc_processing_2/HFSC_R5/preprocessing/stitched/Round4_4.tif\n",
      "Cycle 5:\n",
      "    reading /media/cml/hfsc_processing_2/HFSC_R5/preprocessing/OME_tiffs/Base_6.ome.tiff\n",
      "    assembling thumbnail 60/60\n",
      "    estimated cycle offset [y x] = [-3. -2.]\n",
      "    aligning tile 60/60\n",
      "    Channel 0:\n",
      "        merging tile 60/60\n",
      "        writing to /media/cml/hfsc_processing_2/HFSC_R5/preprocessing/stitched/Round5_0.tif\n",
      "    Channel 1:\n",
      "        merging tile 60/60\n",
      "        writing to /media/cml/hfsc_processing_2/HFSC_R5/preprocessing/stitched/Round5_1.tif\n",
      "    Channel 2:\n",
      "        merging tile 60/60\n",
      "        writing to /media/cml/hfsc_processing_2/HFSC_R5/preprocessing/stitched/Round5_2.tif\n",
      "    Channel 3:\n",
      "        merging tile 60/60\n",
      "        writing to /media/cml/hfsc_processing_2/HFSC_R5/preprocessing/stitched/Round5_3.tif\n",
      "    Channel 4:\n",
      "        merging tile 60/60\n",
      "        writing to /media/cml/hfsc_processing_2/HFSC_R5/preprocessing/stitched/Round5_4.tif\n",
      "tiling: Round0_0.tif\n",
      "tiling: Round0_1.tif\n",
      "tiling: Round0_2.tif\n",
      "tiling: Round0_3.tif\n",
      "tiling: Round0_4.tif\n",
      "tiling: Round1_0.tif\n",
      "tiling: Round1_1.tif\n",
      "tiling: Round1_2.tif\n",
      "tiling: Round1_3.tif\n",
      "tiling: Round1_4.tif\n",
      "tiling: Round2_0.tif\n",
      "tiling: Round2_1.tif\n",
      "tiling: Round2_2.tif\n",
      "tiling: Round2_3.tif\n",
      "tiling: Round2_4.tif\n",
      "tiling: Round3_0.tif\n",
      "tiling: Round3_1.tif\n",
      "tiling: Round3_2.tif\n",
      "tiling: Round3_3.tif\n",
      "tiling: Round3_4.tif\n",
      "tiling: Round4_0.tif\n",
      "tiling: Round4_1.tif\n",
      "tiling: Round4_2.tif\n",
      "tiling: Round4_3.tif\n",
      "tiling: Round4_4.tif\n",
      "tiling: Round5_0.tif\n",
      "tiling: Round5_1.tif\n",
      "tiling: Round5_2.tif\n",
      "tiling: Round5_3.tif\n",
      "tiling: Round5_4.tif\n",
      "A1 Region6.xlif\n"
     ]
    },
    {
     "name": "stderr",
     "output_type": "stream",
     "text": [
      "100%|██████████| 60/60 [01:31<00:00,  1.53s/it]\n"
     ]
    },
    {
     "name": "stdout",
     "output_type": "stream",
     "text": [
      "A1 Region6.xlif\n"
     ]
    },
    {
     "name": "stderr",
     "output_type": "stream",
     "text": [
      "100%|██████████| 60/60 [01:20<00:00,  1.34s/it]\n"
     ]
    },
    {
     "name": "stdout",
     "output_type": "stream",
     "text": [
      "A1 Region6.xlif\n"
     ]
    },
    {
     "name": "stderr",
     "output_type": "stream",
     "text": [
      "100%|██████████| 60/60 [01:20<00:00,  1.34s/it]\n"
     ]
    },
    {
     "name": "stdout",
     "output_type": "stream",
     "text": [
      "A1 Region6.xlif\n"
     ]
    },
    {
     "name": "stderr",
     "output_type": "stream",
     "text": [
      "100%|██████████| 60/60 [01:36<00:00,  1.61s/it]\n"
     ]
    },
    {
     "name": "stdout",
     "output_type": "stream",
     "text": [
      "A1 Region6.xml\n"
     ]
    },
    {
     "name": "stderr",
     "output_type": "stream",
     "text": [
      "100%|██████████| 60/60 [01:20<00:00,  1.33s/it]\n"
     ]
    },
    {
     "name": "stdout",
     "output_type": "stream",
     "text": [
      "A1 Region6.xlif\n"
     ]
    },
    {
     "name": "stderr",
     "output_type": "stream",
     "text": [
      "100%|██████████| 60/60 [01:38<00:00,  1.63s/it]\n"
     ]
    },
    {
     "name": "stdout",
     "output_type": "stream",
     "text": [
      "Cycle 0:\n",
      "    reading /media/cml/hfsc_processing_2/HFSC_R6/preprocessing/OME_tiffs/Base_1.ome.tiff\n",
      "    assembling thumbnail 60/60\n",
      "    quantifying alignment error 1000/1000\n",
      "    aligning edge 101/101\n",
      "    Channel 0:\n",
      "        merging tile 60/60\n",
      "        writing to /media/cml/hfsc_processing_2/HFSC_R6/preprocessing/stitched/Round0_0.tif\n",
      "    Channel 1:\n",
      "        merging tile 60/60\n",
      "        writing to /media/cml/hfsc_processing_2/HFSC_R6/preprocessing/stitched/Round0_1.tif\n",
      "    Channel 2:\n",
      "        merging tile 60/60\n",
      "        writing to /media/cml/hfsc_processing_2/HFSC_R6/preprocessing/stitched/Round0_2.tif\n",
      "    Channel 3:\n",
      "        merging tile 60/60\n",
      "        writing to /media/cml/hfsc_processing_2/HFSC_R6/preprocessing/stitched/Round0_3.tif\n",
      "    Channel 4:\n",
      "        merging tile 60/60\n",
      "        writing to /media/cml/hfsc_processing_2/HFSC_R6/preprocessing/stitched/Round0_4.tif\n",
      "Cycle 1:\n",
      "    reading /media/cml/hfsc_processing_2/HFSC_R6/preprocessing/OME_tiffs/Base_2.ome.tiff\n",
      "    assembling thumbnail 60/60\n",
      "    estimated cycle offset [y x] = [1. 0.]\n",
      "    aligning tile 60/60\n",
      "    Channel 0:\n",
      "        merging tile 60/60\n",
      "        writing to /media/cml/hfsc_processing_2/HFSC_R6/preprocessing/stitched/Round1_0.tif\n",
      "    Channel 1:\n",
      "        merging tile 60/60\n",
      "        writing to /media/cml/hfsc_processing_2/HFSC_R6/preprocessing/stitched/Round1_1.tif\n",
      "    Channel 2:\n",
      "        merging tile 60/60\n",
      "        writing to /media/cml/hfsc_processing_2/HFSC_R6/preprocessing/stitched/Round1_2.tif\n",
      "    Channel 3:\n",
      "        merging tile 60/60\n",
      "        writing to /media/cml/hfsc_processing_2/HFSC_R6/preprocessing/stitched/Round1_3.tif\n",
      "    Channel 4:\n",
      "        merging tile 60/60\n",
      "        writing to /media/cml/hfsc_processing_2/HFSC_R6/preprocessing/stitched/Round1_4.tif\n",
      "Cycle 2:\n",
      "    reading /media/cml/hfsc_processing_2/HFSC_R6/preprocessing/OME_tiffs/Base_3.ome.tiff\n",
      "    assembling thumbnail 60/60\n",
      "    estimated cycle offset [y x] = [-60.  60.]\n",
      "    aligning tile 60/60\n",
      "    Channel 0:\n",
      "        merging tile 60/60\n",
      "        writing to /media/cml/hfsc_processing_2/HFSC_R6/preprocessing/stitched/Round2_0.tif\n",
      "    Channel 1:\n",
      "        merging tile 60/60\n",
      "        writing to /media/cml/hfsc_processing_2/HFSC_R6/preprocessing/stitched/Round2_1.tif\n",
      "    Channel 2:\n",
      "        merging tile 60/60\n",
      "        writing to /media/cml/hfsc_processing_2/HFSC_R6/preprocessing/stitched/Round2_2.tif\n",
      "    Channel 3:\n",
      "        merging tile 60/60\n",
      "        writing to /media/cml/hfsc_processing_2/HFSC_R6/preprocessing/stitched/Round2_3.tif\n",
      "    Channel 4:\n",
      "        merging tile 60/60\n",
      "        writing to /media/cml/hfsc_processing_2/HFSC_R6/preprocessing/stitched/Round2_4.tif\n",
      "Cycle 3:\n",
      "    reading /media/cml/hfsc_processing_2/HFSC_R6/preprocessing/OME_tiffs/Base_4.ome.tiff\n",
      "    assembling thumbnail 60/60\n",
      "    estimated cycle offset [y x] = [ 0. -2.]\n",
      "    aligning tile 60/60\n",
      "    Channel 0:\n",
      "        merging tile 54/60"
     ]
    },
    {
     "name": "stderr",
     "output_type": "stream",
     "text": [
      "IOPub message rate exceeded.\n",
      "The Jupyter server will temporarily stop sending output\n",
      "to the client in order to avoid crashing it.\n",
      "To change this limit, set the config variable\n",
      "`--ServerApp.iopub_msg_rate_limit`.\n",
      "\n",
      "Current values:\n",
      "ServerApp.iopub_msg_rate_limit=1000.0 (msgs/sec)\n",
      "ServerApp.rate_limit_window=3.0 (secs)\n",
      "\n"
     ]
    }
   ],
   "source": [
    "preprocessing_main_leica(input_dirs = input_dirs, \n",
    "                output_location = output_location,\n",
    "                regions_to_process = 8, \n",
    "                align_channel = 4, \n",
    "                tile_dimension = 4000, \n",
    "                mip = False)"
   ]
  },
  {
   "cell_type": "code",
   "execution_count": null,
   "id": "e4668d70-f26f-4df1-b39a-2520b1d00ea5",
   "metadata": {},
   "outputs": [],
   "source": []
  }
 ],
 "metadata": {
  "kernelspec": {
   "display_name": "ISS_preprocessing",
   "language": "python",
   "name": "iss_preprocessing"
  },
  "language_info": {
   "codemirror_mode": {
    "name": "ipython",
    "version": 3
   },
   "file_extension": ".py",
   "mimetype": "text/x-python",
   "name": "python",
   "nbconvert_exporter": "python",
   "pygments_lexer": "ipython3",
   "version": "3.8.5"
  }
 },
 "nbformat": 4,
 "nbformat_minor": 5
}
