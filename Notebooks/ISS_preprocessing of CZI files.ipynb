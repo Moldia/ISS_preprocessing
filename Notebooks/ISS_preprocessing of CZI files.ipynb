{
 "cells": [
  {
   "cell_type": "code",
   "execution_count": null,
   "id": "2b799af6",
   "metadata": {},
   "outputs": [],
   "source": [
    "import ISS_processing.preprocessing as pp\n",
    "import os\n",
    "import pandas as pd"
   ]
  },
  {
   "cell_type": "code",
   "execution_count": null,
   "id": "4dfeb1bb",
   "metadata": {},
   "outputs": [],
   "source": []
  },
  {
   "cell_type": "markdown",
   "id": "e455358f",
   "metadata": {},
   "source": [
    "This notebook guides you through the preprocessing of CZI files produced by Zeiss microscopes. The main difference in this case compared to Leica, is that we don't have a main wrapper function and the different functions need to be run one by one. The typical order by which you would need to run these function is:\n",
    "\n",
    "`process_czi`\n",
    "\n",
    "`zen_OME_tiff`\n",
    "\n",
    "`ashlar_wrapper`\n",
    "\n",
    "`tile_stitched_images`"
   ]
  },
  {
   "cell_type": "markdown",
   "id": "859f5fa5",
   "metadata": {},
   "source": [
    "## `process_czi`\n",
    "\n",
    "In a typical Zeiss experiment you will have 1 single CZI file per region per cycle. These files need to be processed individually, but of course feel free to wrap this function and the others in a loop for more automated processing. This function extracts the images, organises them, and create maximum projections that are exported with a naming convention fitting the downstream processing steps.\n",
    "\n",
    "It also parses the metadata and converts them for downstream processing.\n",
    "\n",
    "\n",
    "`process_czi` takes as inputs the following arguments:\n",
    "\n",
    "`input_file`: the path to the CZI file that you want to preprocess, down to the czi file (included)\n",
    "\n",
    "`outpath`: the folder where you want to save the maximum-projected images. Ideally this would be a `/mainoutputfolder/region/preprocessing/mipped/` folder structure, for consistency with our way of organising the data.\n",
    "\n",
    "`cycle`: here you have to manually specify to which ISS cycle the images refer to. This is a `int` number, where 1 refers to cycle 1 and so on. If `cycle=0` the function will not work.\n",
    "\n",
    "`tile_size_x` and `tile_size_y`: these refer to the size in pixel of your camera field of view. Most cameras are 2048x2048, so that's the default if you don't specify them, but adjust them if your camera has a different field of view size."
   ]
  },
  {
   "cell_type": "code",
   "execution_count": null,
   "id": "e014c1f3",
   "metadata": {},
   "outputs": [],
   "source": [
    "pp.process_czi(input_file, outpath, cycle=0)"
   ]
  },
  {
   "cell_type": "markdown",
   "id": "270497cc",
   "metadata": {},
   "source": [
    "It is required to run the `process_czi` for all the cycles of a specific sample (specifying each time the appropriate `cycle` argument, before moving to the next step."
   ]
  },
  {
   "cell_type": "code",
   "execution_count": null,
   "id": "18044799",
   "metadata": {},
   "outputs": [],
   "source": []
  },
  {
   "cell_type": "markdown",
   "id": "1ea135ce",
   "metadata": {},
   "source": [
    "## zen_OME_tiff\n",
    "\n",
    "This is the function that **takes the projected images across channels and wraps them into a single OMEtiff per imaging cycle**. This steps organises the files corresponding to each imaging cycles in a specific way within a single file and requires the parsing of a Metadata file to arrange correctly the images in xy space. As explained before, the input for this function is the specific sub-folder within `output_location` one wishes to process. **This function does not allow to process multiple regions in one go, and needs to be run on individual regions manually**.\n",
    "From the previous function step, the mipped images will typically have this name format:\n",
    "`Base_1_c1m01_ORG.tif`\n",
    "\n",
    "Where: `Base` refers to the cycle number, `c` refers to the channel number, `m` to the tile number. The `_` separator is used to parse the information about each image from the filename.\n",
    "\n",
    "`Base_1_c1m01_ORG.tif` will be split into `Base_1` `c1` `m01`. Position 1 indicates the cycle, position 2 indicates the channel in this case.\n",
    "\n",
    "The `zen_OME_tiff` accepts the following arguments:\n",
    "\n",
    "`exported_directory`: this is the directory containing the maximum-projected images, however they were generated. They will serve as the input files\n",
    "\n",
    "`output_directory`: this is the output directory that will contain the OMEtiff files created by the function\n",
    "\n",
    "`channel_split`: this specifies where the channel number is indicated in the filename (default=2)\n",
    "\n",
    "`cycle_split`: this specifies where the cycle number is indicated in the filename (default=1)\n",
    "\n",
    "`num_channels`: this specifies how many channels (DAPI included) the images have (default=5)\n",
    "\n",
    "\n"
   ]
  },
  {
   "cell_type": "code",
   "execution_count": null,
   "id": "c04fbaeb",
   "metadata": {},
   "outputs": [],
   "source": [
    "import ISS_processing.preprocessing as pp\n",
    "sample='/mainoutputfolder/region/'\n",
    "\n",
    "exported_directory = sample+'/preprocessing/mipped/', \n",
    "output_directory = sample+'/preprocessing/OME_tiffs/'\n",
    "\n",
    "pp.zen_OME_tiff(exported_directory, output_directory, channel_split=2, cycle_split=1, num_channels=5)"
   ]
  },
  {
   "cell_type": "markdown",
   "id": "be8ccc5b",
   "metadata": {},
   "source": [
    "### `ashlar_wrapper`\n",
    "\n",
    "This function runs `ashlar`, a package for image stitching and cycle alignment. The function uses the OME_tiffs files as an input, takes as input a channel number (normally the DAPI, see above) and on that channels performs all the alignment and stitching operations.\n",
    "\n",
    "The DAPI channel number is relative **to the order of acquisition in the microscope**, in our Zeiss microscope DAPI is the first imaged channel, but often that's not the case. Make sure to adjust this variable accordingly\n",
    "\n",
    "The function outputs 1 stitched file per cycle and channel into the `/preprocessing/stitched/` subfolder"
   ]
  },
  {
   "cell_type": "code",
   "execution_count": null,
   "id": "e40a6c61",
   "metadata": {},
   "outputs": [],
   "source": [
    "import ISS_processing.preprocessing as pp\n",
    "sample='/mainoutputfolder/region/'\n",
    "\n",
    "OME_tiffs = os.listdir(sample+'/preprocessing/OME_tiffs/')\n",
    "OME_tiffs.sort()\n",
    "OME_tiffs = [sample+'/preprocessing/OME_tiffs/' + sub for sub in OME_tiffs]\n",
    "\n",
    "pp.ashlar_wrapper(\n",
    "    files = OME_tiffs,\n",
    "    output = sample+'/preprocessing/stitched/',\n",
    "    align_channel=0\n",
    ")"
   ]
  },
  {
   "cell_type": "markdown",
   "id": "382a29ae",
   "metadata": {},
   "source": [
    "### `tile_stitched_images`\n",
    "In this function the stitched images are re-tiled according to a user-specified size.\n",
    "The reason for this is that stitched images are too big to be decoded directly and we prefer to decode them in tiles. This has several advantages, most notably that the pipeline would work also on laptops or non-powerful computers. The idea tile size is 4000-6000, but larger or smaller are also fine depending on the computer."
   ]
  },
  {
   "cell_type": "code",
   "execution_count": null,
   "id": "926b8e78",
   "metadata": {},
   "outputs": [],
   "source": [
    "import ISS_processing.preprocessing as pp\n",
    "sample='/mainoutputfolder/region/'\n",
    "\n",
    "# retile stitched images\n",
    "pp.tile_stitched_images(\n",
    "    image_path = sample+'/preprocessing/stitched/',\n",
    "    outpath = path+'/preprocessing/ReslicedTiles/',\n",
    "    tile_dim=2000\n",
    ")"
   ]
  }
 ],
 "metadata": {
  "kernelspec": {
   "display_name": "ISS_preprocessing",
   "language": "python",
   "name": "iss_preprocessing"
  },
  "language_info": {
   "codemirror_mode": {
    "name": "ipython",
    "version": 3
   },
   "file_extension": ".py",
   "mimetype": "text/x-python",
   "name": "python",
   "nbconvert_exporter": "python",
   "pygments_lexer": "ipython3",
   "version": "3.8.12"
  }
 },
 "nbformat": 4,
 "nbformat_minor": 5
}
